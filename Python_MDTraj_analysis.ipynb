{
  "nbformat": 4,
  "nbformat_minor": 0,
  "metadata": {
    "colab": {
      "name": "Python MDTraj analysis",
      "provenance": [],
      "collapsed_sections": [],
      "authorship_tag": "ABX9TyP+sk0KNnhj5GwEeXG+H5Gm",
      "include_colab_link": true
    },
    "kernelspec": {
      "name": "python3",
      "display_name": "Python 3"
    },
    "language_info": {
      "name": "python"
    }
  },
  "cells": [
    {
      "cell_type": "markdown",
      "metadata": {
        "id": "view-in-github",
        "colab_type": "text"
      },
      "source": [
        "<a href=\"https://colab.research.google.com/github/giorginolab/MD-Trajectory-Tutorial-UniPD-2022/blob/main/Python_MDTraj_analysis.ipynb\" target=\"_parent\"><img src=\"https://colab.research.google.com/assets/colab-badge.svg\" alt=\"Open In Colab\"/></a>"
      ]
    },
    {
      "cell_type": "markdown",
      "source": [
        "# MD analysis: MDTraj\n",
        "\n",
        "## Prof. Fuxreiter's course, University of Padua\n",
        "*Toni Giorgino, IBF-CNR, Italy* - www.giorginolab.it\n",
        "\n",
        "This is a Python notebook, based on Google Colaboratory platform. For an introduction to the platform, see [here](https://colab.research.google.com/notebooks/welcome.ipynb). You will be able to edit Python statements on this notebook by entering them into \"cells\", and execute them with the \"play\" button.\n",
        "\n",
        "Notes:\n",
        " * The order of execution matters, not the order of display. \n",
        " * To start from scratch, restart the runtime. \n",
        " * Shell commands: prefix with an ! symbol.  E.g. `!ls -l` lists the contents of the current directory.\n",
        " * If you don't have a Google account, you may copy-paste the  statements in  local Python installations.\n",
        " * To plot, see examples [here](https://colab.research.google.com/notebooks/charts.ipynb).\n",
        "\n",
        "The class is based on the following paper:\n",
        "\n",
        "> Giorgino T, Analysis libraries for molecular trajectories: a cross-language synopsis. Chapter 20 in:  Biomolecular Simulations: Methods and Protocols Edited by M. Bonomi and C. Camilloni (Springer, ISBN 978-1-4939-9608-7).  [Preprint here](https://github.com/giorginolab/preprints-repository/tree/master/analysis_libraries_chapter)\n",
        "\n",
        "\n",
        "\n",
        "\n",
        "\n"
      ],
      "metadata": {
        "id": "74vACPqohpSO"
      }
    },
    {
      "cell_type": "markdown",
      "metadata": {
        "id": "3YeAHzknEP1D"
      },
      "source": [
        "# Retrieve simulation trajectories\n",
        "\n",
        "This copies data on the server which is running the calculations (not your computer). See below to download files to your PC."
      ]
    },
    {
      "cell_type": "code",
      "execution_count": 1,
      "metadata": {
        "cellView": "code",
        "id": "hyKBH8TnBIPT",
        "colab": {
          "base_uri": "https://localhost:8080/"
        },
        "outputId": "486e8a67-98be-4d11-9d7e-d9f85a46baad"
      },
      "outputs": [
        {
          "output_type": "stream",
          "name": "stdout",
          "text": [
            "Cloning into 'MD-Trajectory-Tutorial-UniPD-2022'...\n",
            "remote: Enumerating objects: 18, done.\u001b[K\n",
            "remote: Counting objects: 100% (18/18), done.\u001b[K\n",
            "remote: Compressing objects: 100% (15/15), done.\u001b[K\n",
            "remote: Total 18 (delta 2), reused 15 (delta 2), pack-reused 0\u001b[K\n",
            "Unpacking objects: 100% (18/18), done.\n"
          ]
        }
      ],
      "source": [
        "# Get the data files\n",
        "! git clone https://github.com/giorginolab/MD-Trajectory-Tutorial-UniPD-2022"
      ]
    },
    {
      "cell_type": "code",
      "execution_count": 2,
      "metadata": {
        "id": "vDoHxl0qD4OY",
        "colab": {
          "base_uri": "https://localhost:8080/"
        },
        "outputId": "6454efe3-6184-486c-892b-90cddc547759"
      },
      "outputs": [
        {
          "output_type": "stream",
          "name": "stdout",
          "text": [
            "/content/MD-Trajectory-Tutorial-UniPD-2022/data\n"
          ]
        }
      ],
      "source": [
        "%cd /content/MD-Trajectory-Tutorial-UniPD-2022/data"
      ]
    },
    {
      "cell_type": "code",
      "execution_count": 3,
      "metadata": {
        "id": "g-nlbb0aECLB",
        "colab": {
          "base_uri": "https://localhost:8080/"
        },
        "outputId": "689c32fd-92f6-4009-8318-2a676a9004c8"
      },
      "outputs": [
        {
          "output_type": "stream",
          "name": "stdout",
          "text": [
            "total 18008\n",
            "-rw-r--r-- 1 root root   599001 Apr 28 00:18 hivcompl_amber.pdb\n",
            "-rw-r--r-- 1 root root 10728872 Apr 28 00:18 hivcompl_md5.nc\n",
            "-rw-r--r-- 1 root root  3423268 Apr 28 00:18 hivcompl_md5.xtc\n",
            "-rw-r--r-- 1 root root  3682145 Apr 28 00:18 hivcompl.prmtop\n"
          ]
        }
      ],
      "source": [
        "!ls -l"
      ]
    },
    {
      "cell_type": "markdown",
      "metadata": {
        "id": "gvsBebPvp3HH"
      },
      "source": [
        "# Download results to your PC\n",
        "\n",
        "To download any file (not necessary, but may be useful to inspect results), use the little \"folder\" icon on the left."
      ]
    },
    {
      "cell_type": "markdown",
      "source": [
        "# Install and import the library"
      ],
      "metadata": {
        "id": "QVkRtSKsillN"
      }
    },
    {
      "cell_type": "code",
      "source": [
        "!pip install mdtraj"
      ],
      "metadata": {
        "colab": {
          "base_uri": "https://localhost:8080/"
        },
        "id": "AilGOj5ziFle",
        "outputId": "c763c7b8-68cc-4fd3-da85-b630194ad645"
      },
      "execution_count": 4,
      "outputs": [
        {
          "output_type": "stream",
          "name": "stdout",
          "text": [
            "Collecting mdtraj\n",
            "  Downloading mdtraj-1.9.7.tar.gz (2.1 MB)\n",
            "\u001b[K     |████████████████████████████████| 2.1 MB 33.3 MB/s \n",
            "\u001b[?25h  Installing build dependencies ... \u001b[?25l\u001b[?25hdone\n",
            "  Getting requirements to build wheel ... \u001b[?25l\u001b[?25hdone\n",
            "    Preparing wheel metadata ... \u001b[?25l\u001b[?25hdone\n",
            "Requirement already satisfied: scipy in /usr/local/lib/python3.7/dist-packages (from mdtraj) (1.4.1)\n",
            "Requirement already satisfied: pyparsing in /usr/local/lib/python3.7/dist-packages (from mdtraj) (3.0.8)\n",
            "Requirement already satisfied: numpy>=1.6 in /usr/local/lib/python3.7/dist-packages (from mdtraj) (1.21.6)\n",
            "Requirement already satisfied: astunparse in /usr/local/lib/python3.7/dist-packages (from mdtraj) (1.6.3)\n",
            "Requirement already satisfied: wheel<1.0,>=0.23.0 in /usr/local/lib/python3.7/dist-packages (from astunparse->mdtraj) (0.37.1)\n",
            "Requirement already satisfied: six<2.0,>=1.6.1 in /usr/local/lib/python3.7/dist-packages (from astunparse->mdtraj) (1.15.0)\n",
            "Building wheels for collected packages: mdtraj\n",
            "  Building wheel for mdtraj (PEP 517) ... \u001b[?25l\u001b[?25hdone\n",
            "  Created wheel for mdtraj: filename=mdtraj-1.9.7-cp37-cp37m-linux_x86_64.whl size=5533694 sha256=4060822f7dd462abf80405c1cda9693281c16b20fc88fc333a01df8447034c1c\n",
            "  Stored in directory: /root/.cache/pip/wheels/6f/84/9d/6854e5264a4423209de26a6e4b34d13750289c72ba0439bbfd\n",
            "Successfully built mdtraj\n",
            "Installing collected packages: mdtraj\n",
            "Successfully installed mdtraj-1.9.7\n"
          ]
        }
      ]
    },
    {
      "cell_type": "code",
      "source": [
        "import mdtraj as mdt\n",
        "import numpy as np\n",
        "import matplotlib.pyplot as plt"
      ],
      "metadata": {
        "id": "5B4nCgJqiG6X"
      },
      "execution_count": 19,
      "outputs": []
    },
    {
      "cell_type": "markdown",
      "source": [
        "# Analysis starts here\n",
        "\n",
        "We will make use of Python (and its Numpy library) functions to answer a series of questions. Access to the molecular properties will use the MDTraj functions ([manual](https://www.mdtraj.org)).  \n",
        "\n",
        "Rewriting them in one of the other libraries and languages may be an useful exercise."
      ],
      "metadata": {
        "id": "dsFlN6BrkN8c"
      }
    },
    {
      "cell_type": "markdown",
      "source": [
        "# Load the trajectory"
      ],
      "metadata": {
        "id": "pWLvjrHSixtS"
      }
    },
    {
      "cell_type": "code",
      "source": [
        "t = mdt.load(\"hivcompl_md5.nc\", top=\"hivcompl.prmtop\")"
      ],
      "metadata": {
        "id": "Bmr2gcIDiX9x"
      },
      "execution_count": 6,
      "outputs": []
    },
    {
      "cell_type": "code",
      "source": [
        "t"
      ],
      "metadata": {
        "colab": {
          "base_uri": "https://localhost:8080/"
        },
        "id": "MACj3J3qi7ik",
        "outputId": "c8c10680-8c72-44cf-b246-7be0048c37d6"
      },
      "execution_count": 7,
      "outputs": [
        {
          "output_type": "execute_result",
          "data": {
            "text/plain": [
              "<mdtraj.Trajectory with 100 frames, 8940 atoms, 544 residues, without unitcells at 0x7f1ab367ba10>"
            ]
          },
          "metadata": {},
          "execution_count": 7
        }
      ]
    },
    {
      "cell_type": "code",
      "source": [
        "t.topology"
      ],
      "metadata": {
        "colab": {
          "base_uri": "https://localhost:8080/"
        },
        "id": "Za3wXsqri8dp",
        "outputId": "93ba81c1-8832-41be-ab19-56d7fc77f47e"
      },
      "execution_count": 8,
      "outputs": [
        {
          "output_type": "execute_result",
          "data": {
            "text/plain": [
              "<mdtraj.Topology with 1 chains, 544 residues, 8940 atoms, 9059 bonds at 0x7f1ab36dc1d0>"
            ]
          },
          "metadata": {},
          "execution_count": 8
        }
      ]
    },
    {
      "cell_type": "markdown",
      "source": [
        "# Enumerating and slicing"
      ],
      "metadata": {
        "id": "HCdkZMqQx-Pu"
      }
    },
    {
      "cell_type": "code",
      "source": [
        "t.topology.select(\"resname EFZ\")"
      ],
      "metadata": {
        "colab": {
          "base_uri": "https://localhost:8080/"
        },
        "id": "PKdkb_u0i9sK",
        "outputId": "c2c2a8ce-d6ed-45db-a6d2-6e04ba6a4b67"
      },
      "execution_count": 9,
      "outputs": [
        {
          "output_type": "execute_result",
          "data": {
            "text/plain": [
              "array([8910, 8911, 8912, 8913, 8914, 8915, 8916, 8917, 8918, 8919, 8920,\n",
              "       8921, 8922, 8923, 8924, 8925, 8926, 8927, 8928, 8929, 8930, 8931,\n",
              "       8932, 8933, 8934, 8935, 8936, 8937, 8938, 8939])"
            ]
          },
          "metadata": {},
          "execution_count": 9
        }
      ]
    },
    {
      "cell_type": "code",
      "source": [
        "t.topology.select_expression(\"resname EFZ\")"
      ],
      "metadata": {
        "colab": {
          "base_uri": "https://localhost:8080/",
          "height": 36
        },
        "id": "Da7Lwno6jIp7",
        "outputId": "6bb041a4-ce10-46f8-bff8-93f98d0b6c3d"
      },
      "execution_count": 12,
      "outputs": [
        {
          "output_type": "execute_result",
          "data": {
            "text/plain": [
              "\"[atom.index for atom in topology.atoms if (atom.residue.name == 'EFZ')\\n]\""
            ],
            "application/vnd.google.colaboratory.intrinsic+json": {
              "type": "string"
            }
          },
          "metadata": {},
          "execution_count": 12
        }
      ]
    },
    {
      "cell_type": "code",
      "source": [
        "np.array([atom.index for atom in t.topology.atoms if (atom.residue.name == 'EFZ')])"
      ],
      "metadata": {
        "colab": {
          "base_uri": "https://localhost:8080/"
        },
        "id": "3AkLAJ0ZvAnQ",
        "outputId": "fd3904f6-2cd6-4804-a6cb-2881177d8c70"
      },
      "execution_count": 20,
      "outputs": [
        {
          "output_type": "execute_result",
          "data": {
            "text/plain": [
              "array([8910, 8911, 8912, 8913, 8914, 8915, 8916, 8917, 8918, 8919, 8920,\n",
              "       8921, 8922, 8923, 8924, 8925, 8926, 8927, 8928, 8929, 8930, 8931,\n",
              "       8932, 8933, 8934, 8935, 8936, 8937, 8938, 8939])"
            ]
          },
          "metadata": {},
          "execution_count": 20
        }
      ]
    },
    {
      "cell_type": "code",
      "source": [
        "[atom.element for atom in t.topology.atoms if (atom.residue.name == 'EFZ')]"
      ],
      "metadata": {
        "colab": {
          "base_uri": "https://localhost:8080/"
        },
        "id": "99wfmScsjU4Z",
        "outputId": "889e332d-f488-4821-a77a-8c738e8b161f"
      },
      "execution_count": 16,
      "outputs": [
        {
          "output_type": "execute_result",
          "data": {
            "text/plain": [
              "[(17, 'chlorine', 'Cl', 35.4532, 0.227),\n",
              " (9, 'fluorine', 'F', 18.99840325, 0.147),\n",
              " (9, 'fluorine', 'F', 18.99840325, 0.147),\n",
              " (9, 'fluorine', 'F', 18.99840325, 0.147),\n",
              " (8, 'oxygen', 'O', 15.99943, 0.152),\n",
              " (8, 'oxygen', 'O', 15.99943, 0.152),\n",
              " (7, 'nitrogen', 'N', 14.00672, 0.155),\n",
              " (6, 'carbon', 'C', 12.01078, 0.17),\n",
              " (6, 'carbon', 'C', 12.01078, 0.17),\n",
              " (6, 'carbon', 'C', 12.01078, 0.17),\n",
              " (6, 'carbon', 'C', 12.01078, 0.17),\n",
              " (6, 'carbon', 'C', 12.01078, 0.17),\n",
              " (6, 'carbon', 'C', 12.01078, 0.17),\n",
              " (6, 'carbon', 'C', 12.01078, 0.17),\n",
              " (6, 'carbon', 'C', 12.01078, 0.17),\n",
              " (6, 'carbon', 'C', 12.01078, 0.17),\n",
              " (6, 'carbon', 'C', 12.01078, 0.17),\n",
              " (6, 'carbon', 'C', 12.01078, 0.17),\n",
              " (6, 'carbon', 'C', 12.01078, 0.17),\n",
              " (6, 'carbon', 'C', 12.01078, 0.17),\n",
              " (6, 'carbon', 'C', 12.01078, 0.17),\n",
              " (1, 'hydrogen', 'H', 1.007947, 0.12),\n",
              " (1, 'hydrogen', 'H', 1.007947, 0.12),\n",
              " (1, 'hydrogen', 'H', 1.007947, 0.12),\n",
              " (1, 'hydrogen', 'H', 1.007947, 0.12),\n",
              " (1, 'hydrogen', 'H', 1.007947, 0.12),\n",
              " (1, 'hydrogen', 'H', 1.007947, 0.12),\n",
              " (1, 'hydrogen', 'H', 1.007947, 0.12),\n",
              " (1, 'hydrogen', 'H', 1.007947, 0.12),\n",
              " (1, 'hydrogen', 'H', 1.007947, 0.12)]"
            ]
          },
          "metadata": {},
          "execution_count": 16
        }
      ]
    },
    {
      "cell_type": "code",
      "source": [
        "prot = t.atom_slice(t.topology.select(\"protein\"))"
      ],
      "metadata": {
        "id": "59xOAGrNvXof"
      },
      "execution_count": 34,
      "outputs": []
    },
    {
      "cell_type": "code",
      "source": [
        "prot"
      ],
      "metadata": {
        "colab": {
          "base_uri": "https://localhost:8080/"
        },
        "id": "yycuh3SJvlx8",
        "outputId": "a76473b2-41b3-4bf4-9f9e-e9d92ab7cf1a"
      },
      "execution_count": 35,
      "outputs": [
        {
          "output_type": "execute_result",
          "data": {
            "text/plain": [
              "<mdtraj.Trajectory with 100 frames, 8910 atoms, 543 residues, without unitcells at 0x7f1ab34a0f50>"
            ]
          },
          "metadata": {},
          "execution_count": 35
        }
      ]
    },
    {
      "cell_type": "code",
      "source": [
        "efz = t.atom_slice(t.topology.select(\"resname EFZ\"))"
      ],
      "metadata": {
        "id": "EbwS3-u0wjn7"
      },
      "execution_count": 36,
      "outputs": []
    },
    {
      "cell_type": "code",
      "source": [
        "efz"
      ],
      "metadata": {
        "colab": {
          "base_uri": "https://localhost:8080/"
        },
        "id": "LFgR7Irlw13E",
        "outputId": "640b66fc-e0b0-4f93-ec83-2eebd7421599"
      },
      "execution_count": 37,
      "outputs": [
        {
          "output_type": "execute_result",
          "data": {
            "text/plain": [
              "<mdtraj.Trajectory with 100 frames, 30 atoms, 1 residues, without unitcells at 0x7f1ab26d0790>"
            ]
          },
          "metadata": {},
          "execution_count": 37
        }
      ]
    },
    {
      "cell_type": "markdown",
      "source": [
        "# RMSD"
      ],
      "metadata": {
        "id": "LJIgQY_aySTu"
      }
    },
    {
      "cell_type": "code",
      "source": [
        "rmsd_prot = mdt.rmsd(prot,prot)"
      ],
      "metadata": {
        "id": "Gik98YWFyRyj"
      },
      "execution_count": 52,
      "outputs": []
    },
    {
      "cell_type": "code",
      "source": [
        "plt.plot(rmsd_prot)"
      ],
      "metadata": {
        "colab": {
          "base_uri": "https://localhost:8080/",
          "height": 283
        },
        "id": "LJ2Nj_K9yjuD",
        "outputId": "e69f0f94-68ba-4ff3-9e74-949f97a74c58"
      },
      "execution_count": 53,
      "outputs": [
        {
          "output_type": "execute_result",
          "data": {
            "text/plain": [
              "[<matplotlib.lines.Line2D at 0x7f1aa6a36950>]"
            ]
          },
          "metadata": {},
          "execution_count": 53
        },
        {
          "output_type": "display_data",
          "data": {
            "text/plain": [
              "<Figure size 432x288 with 1 Axes>"
            ],
            "image/png": "[encoded data removed]"
          },
          "metadata": {
            "needs_background": "light"
          }
        }
      ]
    },
    {
      "cell_type": "code",
      "source": [
        "rmsd_efz = mdt.rmsd(efz,efz)\n",
        "plt.plot(rmsd_efz)"
      ],
      "metadata": {
        "colab": {
          "base_uri": "https://localhost:8080/",
          "height": 283
        },
        "id": "1MIjluiBysrr",
        "outputId": "339579b7-f71f-402a-d9b6-8a1b0b966b48"
      },
      "execution_count": 54,
      "outputs": [
        {
          "output_type": "execute_result",
          "data": {
            "text/plain": [
              "[<matplotlib.lines.Line2D at 0x7f1aa6172590>]"
            ]
          },
          "metadata": {},
          "execution_count": 54
        },
        {
          "output_type": "display_data",
          "data": {
            "text/plain": [
              "<Figure size 432x288 with 1 Axes>"
            ],
            "image/png": "[encoded data removed]"
          },
          "metadata": {
            "needs_background": "light"
          }
        }
      ]
    },
    {
      "cell_type": "markdown",
      "source": [
        "# RMSF\n",
        "\n",
        "It is an indication of the fluctuation of each atom (or residue) - the average squared displacement with respect to a \"rest\" (reference) position. Generally relates to disorder, and crystallographic B factors."
      ],
      "metadata": {
        "id": "SR0Kr2CezgpD"
      }
    },
    {
      "cell_type": "code",
      "source": [
        "rmsf_prot = mdt.rmsf(prot,prot, atom_indices=prot.topology.select(\"name CA\"))"
      ],
      "metadata": {
        "id": "6UJXmZYHy0Zy"
      },
      "execution_count": 57,
      "outputs": []
    },
    {
      "cell_type": "code",
      "source": [
        "rmsf_prot.shape"
      ],
      "metadata": {
        "colab": {
          "base_uri": "https://localhost:8080/"
        },
        "id": "13miKnA7z7Q9",
        "outputId": "8faeab24-3b1f-48aa-b0a9-a69846c1db38"
      },
      "execution_count": 58,
      "outputs": [
        {
          "output_type": "execute_result",
          "data": {
            "text/plain": [
              "(543,)"
            ]
          },
          "metadata": {},
          "execution_count": 58
        }
      ]
    },
    {
      "cell_type": "code",
      "source": [
        "plt.plot(rmsf_prot)"
      ],
      "metadata": {
        "colab": {
          "base_uri": "https://localhost:8080/",
          "height": 283
        },
        "id": "-8Ffuvgzz7U6",
        "outputId": "e849ca9e-1bd9-4969-9e75-5ac847c9f44a"
      },
      "execution_count": 59,
      "outputs": [
        {
          "output_type": "execute_result",
          "data": {
            "text/plain": [
              "[<matplotlib.lines.Line2D at 0x7f1aa609f810>]"
            ]
          },
          "metadata": {},
          "execution_count": 59
        },
        {
          "output_type": "display_data",
          "data": {
            "text/plain": [
              "<Figure size 432x288 with 1 Axes>"
            ],
            "image/png": "[encoded data removed]"
          },
          "metadata": {
            "needs_background": "light"
          }
        }
      ]
    },
    {
      "cell_type": "markdown",
      "source": [
        "# Distance between center of masses"
      ],
      "metadata": {
        "id": "yo6Beuoqx4hS"
      }
    },
    {
      "cell_type": "code",
      "source": [
        "prot_com=mdt.compute_center_of_mass(prot)\n",
        "prot_com[1:5,]"
      ],
      "metadata": {
        "colab": {
          "base_uri": "https://localhost:8080/"
        },
        "id": "o-6DvGtlw9Yu",
        "outputId": "cd198dde-e2ce-4b3b-ec65-544adc15f4d1"
      },
      "execution_count": 43,
      "outputs": [
        {
          "output_type": "execute_result",
          "data": {
            "text/plain": [
              "array([[ 1.17315743, -1.86143375,  2.68262688],\n",
              "       [ 1.17222083, -1.86140517,  2.6825325 ],\n",
              "       [ 1.17162196, -1.8610747 ,  2.68197756],\n",
              "       [ 1.17101371, -1.86123077,  2.68060318]])"
            ]
          },
          "metadata": {},
          "execution_count": 43
        }
      ]
    },
    {
      "cell_type": "code",
      "source": [
        "efz_com=mdt.compute_center_of_mass(efz)\n",
        "efz_com[1:5,]"
      ],
      "metadata": {
        "colab": {
          "base_uri": "https://localhost:8080/"
        },
        "id": "EbGGUSnDw2Od",
        "outputId": "616442ce-8120-4b6c-d36d-83cb9b1c4db1"
      },
      "execution_count": 44,
      "outputs": [
        {
          "output_type": "execute_result",
          "data": {
            "text/plain": [
              "array([[-0.06894955, -3.46304045,  2.4417674 ],\n",
              "       [-0.06202532, -3.45649114,  2.44398806],\n",
              "       [-0.06354196, -3.45437213,  2.43717993],\n",
              "       [-0.06805557, -3.45538715,  2.44155117]])"
            ]
          },
          "metadata": {},
          "execution_count": 44
        }
      ]
    },
    {
      "cell_type": "code",
      "source": [
        "dcom = prot_com-efz_com"
      ],
      "metadata": {
        "id": "uc6aiJG9xTAN"
      },
      "execution_count": 45,
      "outputs": []
    },
    {
      "cell_type": "code",
      "source": [
        "dcoml = np.linalg.norm(dcom,axis=1)"
      ],
      "metadata": {
        "id": "xrROjggYxeoz"
      },
      "execution_count": 49,
      "outputs": []
    },
    {
      "cell_type": "code",
      "source": [
        "plt.plot(dcoml)"
      ],
      "metadata": {
        "colab": {
          "base_uri": "https://localhost:8080/",
          "height": 283
        },
        "id": "wJY4NfobxmVv",
        "outputId": "5f126f64-6950-4244-9aa3-7beb8004c212"
      },
      "execution_count": 50,
      "outputs": [
        {
          "output_type": "execute_result",
          "data": {
            "text/plain": [
              "[<matplotlib.lines.Line2D at 0x7f1aa7083d50>]"
            ]
          },
          "metadata": {},
          "execution_count": 50
        },
        {
          "output_type": "display_data",
          "data": {
            "text/plain": [
              "<Figure size 432x288 with 1 Axes>"
            ],
            "image/png": "[encoded data removed]"
          },
          "metadata": {
            "needs_background": "light"
          }
        }
      ]
    },
    {
      "cell_type": "markdown",
      "source": [
        "# Contacts"
      ],
      "metadata": {
        "id": "8XwqX02T00yS"
      }
    },
    {
      "cell_type": "code",
      "source": [
        "??mdt.core.topology.Residue"
      ],
      "metadata": {
        "id": "jzksIZcs1v8c"
      },
      "execution_count": 68,
      "outputs": []
    },
    {
      "cell_type": "code",
      "source": [
        "efz_idx = [res.index for res in t.topology.residues if res.name == \"EFZ\"]\n",
        "efz_idx"
      ],
      "metadata": {
        "colab": {
          "base_uri": "https://localhost:8080/"
        },
        "id": "qGjGxIVk16oB",
        "outputId": "439f280b-6be0-4a3d-fd4c-c0489478504b"
      },
      "execution_count": 70,
      "outputs": [
        {
          "output_type": "execute_result",
          "data": {
            "text/plain": [
              "[543]"
            ]
          },
          "metadata": {},
          "execution_count": 70
        }
      ]
    },
    {
      "cell_type": "code",
      "source": [
        "prot_idx = [res.index for res in t.topology.residues if res.name != \"EFZ\"]\n",
        "prot_idx"
      ],
      "metadata": {
        "colab": {
          "base_uri": "https://localhost:8080/"
        },
        "id": "yjwT00o12OXA",
        "outputId": "267fd3db-e868-4739-ac26-9753d5f93fe7"
      },
      "execution_count": 72,
      "outputs": [
        {
          "output_type": "execute_result",
          "data": {
            "text/plain": [
              "array([  0,   1,   2,   3,   4,   5,   6,   7,   8,   9,  10,  11,  12,\n",
              "        13,  14,  15,  16,  17,  18,  19,  20,  21,  22,  23,  24,  25,\n",
              "        26,  27,  28,  29,  30,  31,  32,  33,  34,  35,  36,  37,  38,\n",
              "        39,  40,  41,  42,  43,  44,  45,  46,  47,  48,  49,  50,  51,\n",
              "        52,  53,  54,  55,  56,  57,  58,  59,  60,  61,  62,  63,  64,\n",
              "        65,  66,  67,  68,  69,  70,  71,  72,  73,  74,  75,  76,  77,\n",
              "        78,  79,  80,  81,  82,  83,  84,  85,  86,  87,  88,  89,  90,\n",
              "        91,  92,  93,  94,  95,  96,  97,  98,  99, 100, 101, 102, 103,\n",
              "       104, 105, 106, 107, 108, 109, 110, 111, 112, 113, 114, 115, 116,\n",
              "       117, 118, 119, 120, 121, 122, 123, 124, 125, 126, 127, 128, 129,\n",
              "       130, 131, 132, 133, 134, 135, 136, 137, 138, 139, 140, 141, 142,\n",
              "       143, 144, 145, 146, 147, 148, 149, 150, 151, 152, 153, 154, 155,\n",
              "       156, 157, 158, 159, 160, 161, 162, 163, 164, 165, 166, 167, 168,\n",
              "       169, 170, 171, 172, 173, 174, 175, 176, 177, 178, 179, 180, 181,\n",
              "       182, 183, 184, 185, 186, 187, 188, 189, 190, 191, 192, 193, 194,\n",
              "       195, 196, 197, 198, 199, 200, 201, 202, 203, 204, 205, 206, 207,\n",
              "       208, 209, 210, 211, 212, 213, 214, 215, 216, 217, 218, 219, 220,\n",
              "       221, 222, 223, 224, 225, 226, 227, 228, 229, 230, 231, 232, 233,\n",
              "       234, 235, 236, 237, 238, 239, 240, 241, 242, 243, 244, 245, 246,\n",
              "       247, 248, 249, 250, 251, 252, 253, 254, 255, 256, 257, 258, 259,\n",
              "       260, 261, 262, 263, 264, 265, 266, 267, 268, 269, 270, 271, 272,\n",
              "       273, 274, 275, 276, 277, 278, 279, 280, 281, 282, 283, 284, 285,\n",
              "       286, 287, 288, 289, 290, 291, 292, 293, 294, 295, 296, 297, 298,\n",
              "       299, 300, 301, 302, 303, 304, 305, 306, 307, 308, 309, 310, 311,\n",
              "       312, 313, 314, 315, 316, 317, 318, 319, 320, 321, 322, 323, 324,\n",
              "       325, 326, 327, 328, 329, 330, 331, 332, 333, 334, 335, 336, 337,\n",
              "       338, 339, 340, 341, 342, 343, 344, 345, 346, 347, 348, 349, 350,\n",
              "       351, 352, 353, 354, 355, 356, 357, 358, 359, 360, 361, 362, 363,\n",
              "       364, 365, 366, 367, 368, 369, 370, 371, 372, 373, 374, 375, 376,\n",
              "       377, 378, 379, 380, 381, 382, 383, 384, 385, 386, 387, 388, 389,\n",
              "       390, 391, 392, 393, 394, 395, 396, 397, 398, 399, 400, 401, 402,\n",
              "       403, 404, 405, 406, 407, 408, 409, 410, 411, 412, 413, 414, 415,\n",
              "       416, 417, 418, 419, 420, 421, 422, 423, 424, 425, 426, 427, 428,\n",
              "       429, 430, 431, 432, 433, 434, 435, 436, 437, 438, 439, 440, 441,\n",
              "       442, 443, 444, 445, 446, 447, 448, 449, 450, 451, 452, 453, 454,\n",
              "       455, 456, 457, 458, 459, 460, 461, 462, 463, 464, 465, 466, 467,\n",
              "       468, 469, 470, 471, 472, 473, 474, 475, 476, 477, 478, 479, 480,\n",
              "       481, 482, 483, 484, 485, 486, 487, 488, 489, 490, 491, 492, 493,\n",
              "       494, 495, 496, 497, 498, 499, 500, 501, 502, 503, 504, 505, 506,\n",
              "       507, 508, 509, 510, 511, 512, 513, 514, 515, 516, 517, 518, 519,\n",
              "       520, 521, 522, 523, 524, 525, 526, 527, 528, 529, 530, 531, 532,\n",
              "       533, 534, 535, 536, 537, 538, 539, 540, 541, 542])"
            ]
          },
          "metadata": {},
          "execution_count": 72
        }
      ]
    },
    {
      "cell_type": "code",
      "source": [
        "import itertools\n",
        "clists = itertools.product(efz_idx,prot_idx)\n",
        "clists = np.array(list(clists))"
      ],
      "metadata": {
        "id": "tj0BJ0mO21_S"
      },
      "execution_count": 80,
      "outputs": []
    },
    {
      "cell_type": "code",
      "source": [
        "cont, _ = mdt.compute_contacts(t, clists)\n",
        "cont.shape"
      ],
      "metadata": {
        "colab": {
          "base_uri": "https://localhost:8080/"
        },
        "id": "VE5LaoWoxuR1",
        "outputId": "a90efddf-4646-4770-d179-371b264a99ef"
      },
      "execution_count": 89,
      "outputs": [
        {
          "output_type": "execute_result",
          "data": {
            "text/plain": [
              "(100, 543)"
            ]
          },
          "metadata": {},
          "execution_count": 89
        }
      ]
    },
    {
      "cell_type": "code",
      "source": [
        "plt.imshow(cont.T)"
      ],
      "metadata": {
        "colab": {
          "base_uri": "https://localhost:8080/",
          "height": 287
        },
        "id": "NjveDl6p3go8",
        "outputId": "81b094a0-a1b0-4e70-ae8b-5538f8815316"
      },
      "execution_count": 90,
      "outputs": [
        {
          "output_type": "execute_result",
          "data": {
            "text/plain": [
              "<matplotlib.image.AxesImage at 0x7f1aa605a110>"
            ]
          },
          "metadata": {},
          "execution_count": 90
        },
        {
          "output_type": "display_data",
          "data": {
            "text/plain": [
              "<Figure size 432x288 with 1 Axes>"
            ],
            "image/png": "[encoded data removed]"
          },
          "metadata": {
            "needs_background": "light"
          }
        }
      ]
    },
    {
      "cell_type": "code",
      "source": [
        "cont"
      ],
      "metadata": {
        "colab": {
          "base_uri": "https://localhost:8080/"
        },
        "id": "UFkK0tQs2bnn",
        "outputId": "9027ac64-597b-4f94-f5c3-92231d2145fe"
      },
      "execution_count": 88,
      "outputs": [
        {
          "output_type": "execute_result",
          "data": {
            "text/plain": [
              "array([[2.5096595, 2.5243084, 2.2524314, ..., 6.824193 , 6.648153 ,\n",
              "        7.0947237],\n",
              "       [2.4865365, 2.4860497, 2.229067 , ..., 6.877668 , 6.6941586,\n",
              "        7.139991 ],\n",
              "       [2.4789855, 2.4887307, 2.2120888, ..., 6.848234 , 6.648461 ,\n",
              "        7.1478424],\n",
              "       ...,\n",
              "       [2.4771783, 2.5931494, 2.2980049, ..., 6.9251757, 7.125567 ,\n",
              "        7.364703 ],\n",
              "       [2.4621131, 2.5787563, 2.2664378, ..., 6.951645 , 7.08812  ,\n",
              "        7.3913584],\n",
              "       [2.4258027, 2.5312088, 2.2303612, ..., 6.9606137, 7.057011 ,\n",
              "        7.420653 ]], dtype=float32)"
            ]
          },
          "metadata": {},
          "execution_count": 88
        }
      ]
    },
    {
      "cell_type": "code",
      "source": [
        "plt.plot(cont[50,:])"
      ],
      "metadata": {
        "colab": {
          "base_uri": "https://localhost:8080/",
          "height": 283
        },
        "id": "vpdzdVJk3u6D",
        "outputId": "3e96442a-6d48-4aca-a0c0-c629a3216dbf"
      },
      "execution_count": 92,
      "outputs": [
        {
          "output_type": "execute_result",
          "data": {
            "text/plain": [
              "[<matplotlib.lines.Line2D at 0x7f1aa6068a10>]"
            ]
          },
          "metadata": {},
          "execution_count": 92
        },
        {
          "output_type": "display_data",
          "data": {
            "text/plain": [
              "<Figure size 432x288 with 1 Axes>"
            ],
            "image/png": "[encoded data removed]"
          },
          "metadata": {
            "needs_background": "light"
          }
        }
      ]
    },
    {
      "cell_type": "code",
      "source": [
        ""
      ],
      "metadata": {
        "id": "EYOIlgXG4ATu"
      },
      "execution_count": null,
      "outputs": []
    }
  ]
}